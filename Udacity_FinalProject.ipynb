{
 "cells": [
  {
   "cell_type": "markdown",
   "metadata": {},
   "source": [
    "## Monitoring Math Performance of NYC Charter Schools"
   ]
  },
  {
   "cell_type": "markdown",
   "metadata": {},
   "source": [
    "## Table of Contents\n",
    "\n",
    "I. [Project Definition](#Project-Definintion)<br>\n",
    "II. [Analysis](#Analysis)<br>\n",
    "III. [Methodology](#Methodology)<br>\n",
    "IV. [Result](#Result)<br>\n",
    "V. [Conclusion](#Conclusion)<br>"
   ]
  },
  {
   "cell_type": "markdown",
   "metadata": {},
   "source": [
    "## <a class=\"anchor\" id=\"Project-Definition\">Part I : Project Definition</a>\n",
    "\n",
    "### Project Overview\n",
    "\n",
    "Charter schools were established in the United States to offer free quality education to K-12 students at no cost. It is seen as a better alternative to public K-12 schools. Charter schools are frequently audited based on their students’ performance. Improving students’ academic performance is the aim of many charter schools in the United States. \n",
    "\n",
    "The project aims to track the performance of students that attend charter school in a specific subject like Math. The performance tracker gives the school leadership an insight of how students are performing in Math based on the percentage of students classified into 3 levels: Meeting Standards, Partially Meeting Standards, and Not Meeting Standards, after taking a test. The dataset for the project was gotten from https://opendata.cityofnewyork.us, New York City repository for publicly accessible dataset. \n",
    "\n",
    "### Project Statement\n",
    "The goal of the project is to design an application to predict the performance ratio of students in Math in a specific charter school. The application predicts the percentage of students that would fall into each of the performance standards - Meeting Standards, Partially Meeting Standards, and Not Meeting Standards.\n",
    "\n",
    "### Metrics\n",
    "Root mean squared is the chosen metrics for the algorithm used to train the model in the project."
   ]
  },
  {
   "cell_type": "markdown",
   "metadata": {},
   "source": [
    "## <a class=\"anchor\" id=\"Analysis\">Part II : Analysis</a>\n",
    "\n"
   ]
  },
  {
   "cell_type": "code",
   "execution_count": 124,
   "metadata": {},
   "outputs": [],
   "source": [
    "#Load libraries\n",
    "import matplotlib.pyplot as plt\n",
    "plt.style.use('fivethirtyeight')\n",
    "from IPython.display import display\n",
    "import pandas as pd\n",
    "import numpy as np\n",
    "import seaborn as sns\n",
    "import math\n",
    "from sklearn.metrics import mean_squared_error\n",
    "#from statsmodels.tsa.vector_ar.var_model import VAR\n",
    "from statsmodels.tsa.api import VAR\n",
    "from statsmodels.tsa.vector_ar.vecm import coint_johansen\n",
    "import plotly\n",
    "import plotly.express as px\n",
    "import plotly.graph_objects as go\n",
    "import warnings\n",
    "warnings.filterwarnings(\"ignore\")\n",
    "\n",
    "%matplotlib inline"
   ]
  },
  {
   "cell_type": "code",
   "execution_count": 2,
   "metadata": {},
   "outputs": [],
   "source": [
    "nyc_charter = pd.read_csv('Downloads/2013-2019_Math_Test_Results_Charter_-_School.csv')"
   ]
  },
  {
   "cell_type": "markdown",
   "metadata": {},
   "source": [
    "### Understanding Data"
   ]
  },
  {
   "cell_type": "code",
   "execution_count": 3,
   "metadata": {},
   "outputs": [
    {
     "data": {
      "text/plain": [
       "(5267, 18)"
      ]
     },
     "execution_count": 3,
     "metadata": {},
     "output_type": "execute_result"
    }
   ],
   "source": [
    "#number of rows and columns in the dataset\n",
    "nyc_charter.shape"
   ]
  },
  {
   "cell_type": "code",
   "execution_count": 113,
   "metadata": {},
   "outputs": [],
   "source": [
    "#locate row with string data; expected numerical data\n",
    "#nyc_charter.iloc[647,:]"
   ]
  },
  {
   "cell_type": "code",
   "execution_count": 5,
   "metadata": {},
   "outputs": [],
   "source": [
    "#nyc_charter.loc[nyc_charter['School Name']=='EXCELLENCE BOYS CHARTER SCHOOL']"
   ]
  },
  {
   "cell_type": "code",
   "execution_count": 6,
   "metadata": {},
   "outputs": [
    {
     "name": "stdout",
     "output_type": "stream",
     "text": [
      "[('Unnamed Column', dtype('O')), ('DBN', dtype('O')), ('School Name', dtype('O')), ('Grade', dtype('O')), ('Year', dtype('int64')), ('Category', dtype('O')), ('Number Tested', dtype('int64')), ('Mean Scale Score', dtype('O')), ('# Level 1', dtype('O')), ('% Level 1', dtype('O')), ('# Level 2', dtype('O')), ('% Level 2', dtype('O')), ('# Level 3', dtype('O')), ('% Level 3', dtype('O')), ('# Level 4', dtype('O')), ('% Level 4', dtype('O')), ('# Level 3+4', dtype('O')), ('% Level 3+4', dtype('O'))]\n"
     ]
    }
   ],
   "source": [
    "#check data types of each column\n",
    "col_type = []\n",
    "for i in nyc_charter.columns:\n",
    "    col_type.append((i,nyc_charter[i].dtype))\n",
    "print(col_type)"
   ]
  },
  {
   "cell_type": "code",
   "execution_count": 7,
   "metadata": {},
   "outputs": [],
   "source": [
    "#remove the unnamed column\n",
    "nyc_charter.drop(labels='Unnamed Column', axis=1,inplace=True)"
   ]
  },
  {
   "cell_type": "code",
   "execution_count": 8,
   "metadata": {},
   "outputs": [
    {
     "data": {
      "text/html": [
       "<div>\n",
       "<style scoped>\n",
       "    .dataframe tbody tr th:only-of-type {\n",
       "        vertical-align: middle;\n",
       "    }\n",
       "\n",
       "    .dataframe tbody tr th {\n",
       "        vertical-align: top;\n",
       "    }\n",
       "\n",
       "    .dataframe thead th {\n",
       "        text-align: right;\n",
       "    }\n",
       "</style>\n",
       "<table border=\"1\" class=\"dataframe\">\n",
       "  <thead>\n",
       "    <tr style=\"text-align: right;\">\n",
       "      <th></th>\n",
       "      <th>DBN</th>\n",
       "      <th>School Name</th>\n",
       "      <th>Grade</th>\n",
       "      <th>Year</th>\n",
       "      <th>Category</th>\n",
       "      <th>Number Tested</th>\n",
       "      <th>Mean Scale Score</th>\n",
       "      <th># Level 1</th>\n",
       "      <th>% Level 1</th>\n",
       "      <th># Level 2</th>\n",
       "      <th>% Level 2</th>\n",
       "      <th># Level 3</th>\n",
       "      <th>% Level 3</th>\n",
       "      <th># Level 4</th>\n",
       "      <th>% Level 4</th>\n",
       "      <th># Level 3+4</th>\n",
       "      <th>% Level 3+4</th>\n",
       "    </tr>\n",
       "  </thead>\n",
       "  <tbody>\n",
       "  </tbody>\n",
       "</table>\n",
       "</div>"
      ],
      "text/plain": [
       "Empty DataFrame\n",
       "Columns: [DBN, School Name, Grade, Year, Category, Number Tested, Mean Scale Score, # Level 1, % Level 1, # Level 2, % Level 2, # Level 3, % Level 3, # Level 4, % Level 4, # Level 3+4, % Level 3+4]\n",
       "Index: []"
      ]
     },
     "execution_count": 8,
     "metadata": {},
     "output_type": "execute_result"
    }
   ],
   "source": [
    "#check duplicates rows\n",
    "nyc_charter[nyc_charter.duplicated(['DBN','Year','Grade'])]"
   ]
  },
  {
   "cell_type": "code",
   "execution_count": 9,
   "metadata": {},
   "outputs": [],
   "source": [
    "#remove rows with missing data in almost all columns\n",
    "nyc_charter = nyc_charter[~nyc_charter['# Level 1'].str.contains('s')]"
   ]
  },
  {
   "cell_type": "code",
   "execution_count": 10,
   "metadata": {},
   "outputs": [],
   "source": [
    "#Convert data type of specific columns\n",
    "nyc_charter['Year'] = pd.to_datetime(nyc_charter['Year'], format='%Y')\n",
    "\n",
    "convert_dict = {'# Level 1':int,'% Level 1':float,\n",
    "                '# Level 2':int,'% Level 2':float,\n",
    "               '# Level 3':int,'% Level 3':float,\n",
    "               '# Level 4':int, '% Level 4':float,\n",
    "               '# Level 3+4':int,'% Level 3+4':float,\n",
    "              'Mean Scale Score':float }\n",
    "               \n",
    "nyc_charter= nyc_charter.astype(convert_dict)"
   ]
  },
  {
   "cell_type": "code",
   "execution_count": 11,
   "metadata": {},
   "outputs": [
    {
     "data": {
      "text/plain": [
       "(5257, 17)"
      ]
     },
     "execution_count": 11,
     "metadata": {},
     "output_type": "execute_result"
    }
   ],
   "source": [
    "#check shape again\n",
    "nyc_charter.shape"
   ]
  },
  {
   "cell_type": "code",
   "execution_count": 114,
   "metadata": {},
   "outputs": [],
   "source": [
    "#nyc_charter.head()"
   ]
  },
  {
   "cell_type": "markdown",
   "metadata": {},
   "source": [
    "### Reformat Data"
   ]
  },
  {
   "cell_type": "code",
   "execution_count": 13,
   "metadata": {},
   "outputs": [],
   "source": [
    "#remove the category column since it contains same values for all rows; hence not a significant contributor\n",
    "nyc_charter.drop('Category',axis=1,inplace=True)"
   ]
  },
  {
   "cell_type": "code",
   "execution_count": 14,
   "metadata": {},
   "outputs": [],
   "source": [
    "#drop redundant columns\n",
    "nyc_charter = nyc_charter[['DBN','School Name','Grade','Year','Number Tested',\n",
    "                          'Mean Scale Score','% Level 1','% Level 2','% Level 3+4']]"
   ]
  },
  {
   "cell_type": "code",
   "execution_count": 15,
   "metadata": {},
   "outputs": [],
   "source": [
    "#rename columns\n",
    "nyc_charter.columns = ['DBN','School_Name','Grade','Year','Number_Tested',\n",
    "                          'Mean_Scale_Score','Not_Meeting_Pct',\n",
    "                       'Partially_Meeting_Pct','Meeting_Pct']"
   ]
  },
  {
   "cell_type": "code",
   "execution_count": 16,
   "metadata": {},
   "outputs": [
    {
     "data": {
      "text/plain": [
       "DBN                      0\n",
       "School_Name              0\n",
       "Grade                    0\n",
       "Year                     0\n",
       "Number_Tested            0\n",
       "Mean_Scale_Score         0\n",
       "Not_Meeting_Pct          0\n",
       "Partially_Meeting_Pct    0\n",
       "Meeting_Pct              0\n",
       "dtype: int64"
      ]
     },
     "execution_count": 16,
     "metadata": {},
     "output_type": "execute_result"
    }
   ],
   "source": [
    "#check missing values\n",
    "nyc_charter.isna().sum()"
   ]
  },
  {
   "cell_type": "code",
   "execution_count": 17,
   "metadata": {},
   "outputs": [],
   "source": [
    "nyc_charter.sort_values(by='Year',inplace=True)"
   ]
  },
  {
   "cell_type": "code",
   "execution_count": 18,
   "metadata": {},
   "outputs": [],
   "source": [
    "#nyc_charter.head()"
   ]
  },
  {
   "cell_type": "markdown",
   "metadata": {},
   "source": [
    "### Describe Data"
   ]
  },
  {
   "cell_type": "code",
   "execution_count": 19,
   "metadata": {},
   "outputs": [
    {
     "data": {
      "text/html": [
       "<div>\n",
       "<style scoped>\n",
       "    .dataframe tbody tr th:only-of-type {\n",
       "        vertical-align: middle;\n",
       "    }\n",
       "\n",
       "    .dataframe tbody tr th {\n",
       "        vertical-align: top;\n",
       "    }\n",
       "\n",
       "    .dataframe thead th {\n",
       "        text-align: right;\n",
       "    }\n",
       "</style>\n",
       "<table border=\"1\" class=\"dataframe\">\n",
       "  <thead>\n",
       "    <tr style=\"text-align: right;\">\n",
       "      <th></th>\n",
       "      <th>Number_Tested</th>\n",
       "      <th>Mean_Scale_Score</th>\n",
       "      <th>Not_Meeting_Pct</th>\n",
       "      <th>Partially_Meeting_Pct</th>\n",
       "      <th>Meeting_Pct</th>\n",
       "    </tr>\n",
       "  </thead>\n",
       "  <tbody>\n",
       "    <tr>\n",
       "      <th>count</th>\n",
       "      <td>5257.000000</td>\n",
       "      <td>5257.000000</td>\n",
       "      <td>5257.000000</td>\n",
       "      <td>5257.000000</td>\n",
       "      <td>5257.000000</td>\n",
       "    </tr>\n",
       "    <tr>\n",
       "      <th>mean</th>\n",
       "      <td>109.921248</td>\n",
       "      <td>419.147993</td>\n",
       "      <td>18.941088</td>\n",
       "      <td>29.183907</td>\n",
       "      <td>51.876869</td>\n",
       "    </tr>\n",
       "    <tr>\n",
       "      <th>std</th>\n",
       "      <td>103.734315</td>\n",
       "      <td>142.217901</td>\n",
       "      <td>15.898249</td>\n",
       "      <td>13.892715</td>\n",
       "      <td>25.150429</td>\n",
       "    </tr>\n",
       "    <tr>\n",
       "      <th>min</th>\n",
       "      <td>13.000000</td>\n",
       "      <td>257.000000</td>\n",
       "      <td>0.000000</td>\n",
       "      <td>0.000000</td>\n",
       "      <td>0.000000</td>\n",
       "    </tr>\n",
       "    <tr>\n",
       "      <th>25%</th>\n",
       "      <td>53.000000</td>\n",
       "      <td>307.000000</td>\n",
       "      <td>6.100000</td>\n",
       "      <td>20.600000</td>\n",
       "      <td>32.400000</td>\n",
       "    </tr>\n",
       "    <tr>\n",
       "      <th>50%</th>\n",
       "      <td>78.000000</td>\n",
       "      <td>326.000000</td>\n",
       "      <td>15.700000</td>\n",
       "      <td>30.800000</td>\n",
       "      <td>49.500000</td>\n",
       "    </tr>\n",
       "    <tr>\n",
       "      <th>75%</th>\n",
       "      <td>103.000000</td>\n",
       "      <td>601.000000</td>\n",
       "      <td>28.900000</td>\n",
       "      <td>39.000000</td>\n",
       "      <td>69.900000</td>\n",
       "    </tr>\n",
       "    <tr>\n",
       "      <th>max</th>\n",
       "      <td>755.000000</td>\n",
       "      <td>639.000000</td>\n",
       "      <td>92.300000</td>\n",
       "      <td>78.300000</td>\n",
       "      <td>100.000000</td>\n",
       "    </tr>\n",
       "  </tbody>\n",
       "</table>\n",
       "</div>"
      ],
      "text/plain": [
       "       Number_Tested  Mean_Scale_Score  Not_Meeting_Pct  \\\n",
       "count    5257.000000       5257.000000      5257.000000   \n",
       "mean      109.921248        419.147993        18.941088   \n",
       "std       103.734315        142.217901        15.898249   \n",
       "min        13.000000        257.000000         0.000000   \n",
       "25%        53.000000        307.000000         6.100000   \n",
       "50%        78.000000        326.000000        15.700000   \n",
       "75%       103.000000        601.000000        28.900000   \n",
       "max       755.000000        639.000000        92.300000   \n",
       "\n",
       "       Partially_Meeting_Pct  Meeting_Pct  \n",
       "count            5257.000000  5257.000000  \n",
       "mean               29.183907    51.876869  \n",
       "std                13.892715    25.150429  \n",
       "min                 0.000000     0.000000  \n",
       "25%                20.600000    32.400000  \n",
       "50%                30.800000    49.500000  \n",
       "75%                39.000000    69.900000  \n",
       "max                78.300000   100.000000  "
      ]
     },
     "execution_count": 19,
     "metadata": {},
     "output_type": "execute_result"
    }
   ],
   "source": [
    "nyc_charter.describe(include=[np.number])"
   ]
  },
  {
   "cell_type": "code",
   "execution_count": 20,
   "metadata": {},
   "outputs": [
    {
     "data": {
      "text/html": [
       "<div>\n",
       "<style scoped>\n",
       "    .dataframe tbody tr th:only-of-type {\n",
       "        vertical-align: middle;\n",
       "    }\n",
       "\n",
       "    .dataframe tbody tr th {\n",
       "        vertical-align: top;\n",
       "    }\n",
       "\n",
       "    .dataframe thead th {\n",
       "        text-align: right;\n",
       "    }\n",
       "</style>\n",
       "<table border=\"1\" class=\"dataframe\">\n",
       "  <thead>\n",
       "    <tr style=\"text-align: right;\">\n",
       "      <th></th>\n",
       "      <th>DBN</th>\n",
       "      <th>School_Name</th>\n",
       "      <th>Grade</th>\n",
       "    </tr>\n",
       "  </thead>\n",
       "  <tbody>\n",
       "    <tr>\n",
       "      <th>count</th>\n",
       "      <td>5257</td>\n",
       "      <td>5257</td>\n",
       "      <td>5257</td>\n",
       "    </tr>\n",
       "    <tr>\n",
       "      <th>unique</th>\n",
       "      <td>191</td>\n",
       "      <td>191</td>\n",
       "      <td>7</td>\n",
       "    </tr>\n",
       "    <tr>\n",
       "      <th>top</th>\n",
       "      <td>84K704</td>\n",
       "      <td>COMMUNITY PARTNERSHIP CHARTER SCHOOL</td>\n",
       "      <td>All Grades</td>\n",
       "    </tr>\n",
       "    <tr>\n",
       "      <th>freq</th>\n",
       "      <td>49</td>\n",
       "      <td>49</td>\n",
       "      <td>1081</td>\n",
       "    </tr>\n",
       "  </tbody>\n",
       "</table>\n",
       "</div>"
      ],
      "text/plain": [
       "           DBN                           School_Name       Grade\n",
       "count     5257                                  5257        5257\n",
       "unique     191                                   191           7\n",
       "top     84K704  COMMUNITY PARTNERSHIP CHARTER SCHOOL  All Grades\n",
       "freq        49                                    49        1081"
      ]
     },
     "execution_count": 20,
     "metadata": {},
     "output_type": "execute_result"
    }
   ],
   "source": [
    "nyc_charter.describe(include=[object])"
   ]
  },
  {
   "cell_type": "code",
   "execution_count": 115,
   "metadata": {},
   "outputs": [],
   "source": [
    "#nyc_charter.head()"
   ]
  },
  {
   "cell_type": "markdown",
   "metadata": {},
   "source": [
    "### Data Exploration"
   ]
  },
  {
   "cell_type": "code",
   "execution_count": 74,
   "metadata": {},
   "outputs": [
    {
     "data": {
      "image/png": "[encoded data removed]",
      "text/plain": [
       "<Figure size 504x504 with 3 Axes>"
      ]
     },
     "metadata": {
      "needs_background": "light"
     },
     "output_type": "display_data"
    }
   ],
   "source": [
    "#distribution of performance levels columns\n",
    "fig,axes = plt.subplots(3,1, figsize=(7,7), sharex=True)\n",
    "sns.histplot(nyc_charter['Not_Meeting_Pct'], color='red',ax=axes[0])\n",
    "sns.histplot(nyc_charter['Partially_Meeting_Pct'], color='olive',ax=axes[1])\n",
    "sns.histplot(nyc_charter['Meeting_Pct'], color='teal',ax=axes[2])\n",
    "plt.savefig('nyc_charter_levels.png',dpi=300, bbox_inches='tight')\n",
    "plt.show()"
   ]
  },
  {
   "cell_type": "code",
   "execution_count": 23,
   "metadata": {},
   "outputs": [
    {
     "data": {
      "image/png": "[encoded data removed]",
      "text/plain": [
       "<Figure size 432x288 with 1 Axes>"
      ]
     },
     "metadata": {
      "needs_background": "light"
     },
     "output_type": "display_data"
    }
   ],
   "source": [
    "#distribution of the number of students taking the test\n",
    "#use the square number to choose number of bins:sqrt(nyc_charter.shape[0])\n",
    "nyc_charter.hist(column=['Number_Tested'],bins=int(np.sqrt(nyc_charter.shape[0])))\n",
    "plt.savefig('nyc_number_tested.png',dpi=300, bbox_inches='tight')\n",
    "plt.show()"
   ]
  },
  {
   "cell_type": "markdown",
   "metadata": {},
   "source": [
    "This distribution is right_skewed. Many schools have 100 or less students sitting for the Math Exams yearly."
   ]
  },
  {
   "cell_type": "code",
   "execution_count": 24,
   "metadata": {},
   "outputs": [
    {
     "data": {
      "image/png": "[encoded data removed]",
      "text/plain": [
       "<Figure size 432x288 with 1 Axes>"
      ]
     },
     "metadata": {
      "needs_background": "light"
     },
     "output_type": "display_data"
    }
   ],
   "source": [
    "#distribution of the number of students taking the test\n",
    "#use the square number to choose number of bins:sqrt(nyc_charter.shape[0])\n",
    "nyc_charter.hist(column=['Mean_Scale_Score'],bins=int(np.sqrt(nyc_charter.shape[0])))\n",
    "plt.savefig('nyc_mean_score.png',dpi=300, bbox_inches='tight')\n",
    "plt.show()"
   ]
  },
  {
   "cell_type": "markdown",
   "metadata": {},
   "source": [
    "The **Mean_Scale_Score** histogram depicts two populations in the dataset. A group of schools really doing well in the Math Tests and other group of schools struggling."
   ]
  },
  {
   "cell_type": "code",
   "execution_count": 25,
   "metadata": {},
   "outputs": [
    {
     "data": {
      "image/png": "[encoded data removed]",
      "text/plain": [
       "<Figure size 432x288 with 1 Axes>"
      ]
     },
     "metadata": {
      "needs_background": "light"
     },
     "output_type": "display_data"
    }
   ],
   "source": [
    "#plot number of schools taking test across the years\n",
    "plt.plot(nyc_charter.groupby(nyc_charter['Year'])['DBN'].count())\n",
    "plt.title(\"Number of Schools Per Year\")\n",
    "plt.savefig('nyc_number_schools.png',dpi=300, bbox_inches='tight')\n",
    "plt.show()"
   ]
  },
  {
   "cell_type": "code",
   "execution_count": 26,
   "metadata": {},
   "outputs": [
    {
     "data": {
      "image/png": "[encoded data removed]",
      "text/plain": [
       "<Figure size 432x288 with 1 Axes>"
      ]
     },
     "metadata": {
      "needs_background": "light"
     },
     "output_type": "display_data"
    }
   ],
   "source": [
    "#plot average number of students taking test across the years\n",
    "plt.plot(nyc_charter.groupby(nyc_charter['Year'])['Number_Tested'].mean())\n",
    "plt.title(\"Average Number of Students Per Year\")\n",
    "plt.savefig('nyc_average_student.png',dpi=300, bbox_inches='tight')\n",
    "plt.show()"
   ]
  },
  {
   "cell_type": "markdown",
   "metadata": {},
   "source": [
    "The two line charts depicts the growing number of students in charter schools in NYC and possibly establishment of more charter schools as the years go by."
   ]
  },
  {
   "cell_type": "code",
   "execution_count": 27,
   "metadata": {},
   "outputs": [
    {
     "data": {
      "image/png": "[encoded data removed]",
      "text/plain": [
       "<Figure size 720x720 with 2 Axes>"
      ]
     },
     "metadata": {
      "needs_background": "light"
     },
     "output_type": "display_data"
    }
   ],
   "source": [
    "#plot the correlation matrix\n",
    "correlation = nyc_charter.corr()\n",
    "plt.figure(figsize=(10,10))\n",
    "sns.heatmap(correlation, annot=True, cmap=plt.cm.Reds)\n",
    "plt.savefig('corr_matrix.png',dpi=300, bbox_inches='tight')\n",
    "plt.show()\n"
   ]
  },
  {
   "cell_type": "markdown",
   "metadata": {},
   "source": [
    "## <a class=\"anchor\" id=\"Methodology\">Part III : Methodology</a>"
   ]
  },
  {
   "cell_type": "markdown",
   "metadata": {},
   "source": [
    "### Data PreProcessing\n",
    "\n",
    "After much research into what algorithm would be suitable for the goal of this project- **Predict Performance Levels of Charter Schools in NYC**. The problem is classified as a Mulitvariate Multi-step Time Series Forecasting. Data Preperation has to be inline with the algorithm to be used. Vector Auto Regression (VAR) model would be suitable for the problem.VAR takes into consideration the previous occurence of variables and their dependencies when building building the model.  Here, only the target variables are needed in the dataset.\n"
   ]
  },
  {
   "cell_type": "code",
   "execution_count": 28,
   "metadata": {},
   "outputs": [],
   "source": [
    "#store school ids and school names\n",
    "school_ids = np.unique(nyc_charter['DBN'])\n",
    "school_names = np.unique(nyc_charter['School_Name'])"
   ]
  },
  {
   "cell_type": "code",
   "execution_count": 29,
   "metadata": {},
   "outputs": [
    {
     "name": "stdout",
     "output_type": "stream",
     "text": [
      "Start Year :2013-01-01 00:00:00\n",
      "End Year :2019-01-01 00:00:00\n"
     ]
    }
   ],
   "source": [
    "#year range\n",
    "print(\"Start Year :{}\".format(min(nyc_charter['Year'])))\n",
    "print(\"End Year :{}\".format(max(nyc_charter['Year'])))"
   ]
  },
  {
   "cell_type": "markdown",
   "metadata": {},
   "source": [
    "#write reformatted data to file\n",
    "nyc_charter.to_csv('nyc_charter_format.csv', index=False)"
   ]
  },
  {
   "cell_type": "code",
   "execution_count": null,
   "metadata": {},
   "outputs": [],
   "source": []
  },
  {
   "cell_type": "code",
   "execution_count": 30,
   "metadata": {},
   "outputs": [],
   "source": [
    "#select useful features \n",
    "nyc_charter_grp = nyc_charter[['DBN','Year','Not_Meeting_Pct','Partially_Meeting_Pct','Meeting_Pct']]"
   ]
  },
  {
   "cell_type": "code",
   "execution_count": 31,
   "metadata": {},
   "outputs": [],
   "source": [
    "#group new dataset by DBN and Year\n",
    "nyc_charter2 = nyc_charter_grp.groupby(['DBN','Year']).mean()"
   ]
  },
  {
   "cell_type": "markdown",
   "metadata": {},
   "source": [
    "#write out the reformatted with group dataset to a csv file\n",
    "nyc_charter2.to_csv('nyc_charter_grp.csv')"
   ]
  },
  {
   "cell_type": "code",
   "execution_count": 116,
   "metadata": {},
   "outputs": [],
   "source": [
    "#nyc_charter.columns"
   ]
  },
  {
   "cell_type": "code",
   "execution_count": 33,
   "metadata": {},
   "outputs": [],
   "source": [
    "#function subsets dataset to dataset of individual schools\n",
    "def get_school_df(school_id,df = nyc_charter2):\n",
    "    '''\n",
    "    INPUT: (pandas dataframe) nyc_charter,\n",
    "            (str) school_id\n",
    "    OUTPUT: (pandas dataframe) school_df\n",
    "    TASK: subset dataframe to consist of only one school\n",
    "    '''\n",
    "    school_df = df.loc[school_id]\n",
    "    return school_df    "
   ]
  },
  {
   "cell_type": "code",
   "execution_count": 216,
   "metadata": {},
   "outputs": [],
   "source": [
    "#test get_school_df\n",
    "school = get_school_df('84K356')"
   ]
  },
  {
   "cell_type": "code",
   "execution_count": 217,
   "metadata": {},
   "outputs": [],
   "source": [
    "school2 = get_school_df('84K517')"
   ]
  },
  {
   "cell_type": "code",
   "execution_count": 218,
   "metadata": {},
   "outputs": [],
   "source": [
    "school3 = get_school_df('84K125')"
   ]
  },
  {
   "cell_type": "code",
   "execution_count": 117,
   "metadata": {},
   "outputs": [],
   "source": [
    "#school"
   ]
  },
  {
   "cell_type": "code",
   "execution_count": 103,
   "metadata": {},
   "outputs": [],
   "source": [
    "def get_school_id(name):\n",
    "    '''\n",
    "    INPUT: (str) school name\n",
    "    OUTPUT: (str) school id\n",
    "    TASK: get unique school id\n",
    "    '''\n",
    "    #school_ids = get_school_ids(forecast_models)\n",
    "    school_id = np.unique(nyc_charter.loc[nyc_charter['School_Name']==name]['DBN']).tolist()\n",
    "\n",
    "    return school_id"
   ]
  },
  {
   "cell_type": "markdown",
   "metadata": {},
   "source": [
    "### Training Model"
   ]
  },
  {
   "cell_type": "code",
   "execution_count": 102,
   "metadata": {},
   "outputs": [],
   "source": [
    "nyc = nyc_charter2.reset_index()\n",
    "#nyc.head()\n"
   ]
  },
  {
   "cell_type": "code",
   "execution_count": 99,
   "metadata": {},
   "outputs": [
    {
     "data": {
      "text/plain": [
       "<AxesSubplot:xlabel='y(t)', ylabel='y(t + 1)'>"
      ]
     },
     "execution_count": 99,
     "metadata": {},
     "output_type": "execute_result"
    },
    {
     "data": {
      "image/png": "[encoded data removed]",
      "text/plain": [
       "<Figure size 432x288 with 1 Axes>"
      ]
     },
     "metadata": {
      "needs_background": "light"
     },
     "output_type": "display_data"
    }
   ],
   "source": [
    "#The algorithm I intend to use to use for this building the model is Vector Autoregression.\n",
    "#So I check the autocorrelation of the input features that are also the target variable\n",
    "from pandas.plotting import lag_plot\n",
    "lag_plot(nyc['Not_Meeting_Pct'])\n"
   ]
  },
  {
   "cell_type": "code",
   "execution_count": 100,
   "metadata": {},
   "outputs": [
    {
     "data": {
      "text/plain": [
       "<AxesSubplot:xlabel='y(t)', ylabel='y(t + 1)'>"
      ]
     },
     "execution_count": 100,
     "metadata": {},
     "output_type": "execute_result"
    },
    {
     "data": {
      "image/png": "[encoded data removed]",
      "text/plain": [
       "<Figure size 432x288 with 1 Axes>"
      ]
     },
     "metadata": {
      "needs_background": "light"
     },
     "output_type": "display_data"
    }
   ],
   "source": [
    "lag_plot(nyc['Partially_Meeting_Pct'])"
   ]
  },
  {
   "cell_type": "code",
   "execution_count": 101,
   "metadata": {},
   "outputs": [
    {
     "data": {
      "text/plain": [
       "<AxesSubplot:xlabel='y(t)', ylabel='y(t + 1)'>"
      ]
     },
     "execution_count": 101,
     "metadata": {},
     "output_type": "execute_result"
    },
    {
     "data": {
      "image/png": "[encoded data removed]",
      "text/plain": [
       "<Figure size 432x288 with 1 Axes>"
      ]
     },
     "metadata": {
      "needs_background": "light"
     },
     "output_type": "display_data"
    }
   ],
   "source": [
    "lag_plot(nyc['Meeting_Pct'])"
   ]
  },
  {
   "cell_type": "code",
   "execution_count": 126,
   "metadata": {},
   "outputs": [],
   "source": [
    "from statsmodels.tsa.vector_ar.vecm import coint_johansen\n",
    "\n",
    "def cointegration_test(df, alpha=0.05): \n",
    "    \"\"\"Perform Johanson's Cointegration Test and Report Summary\"\"\"\n",
    "    out = coint_johansen(df,-1,5)\n",
    "    d = {'0.90':0, '0.95':1, '0.99':2}\n",
    "    traces = out.lr1\n",
    "    cvts = out.cvt[:, d[str(1-alpha)]]\n",
    "    def adjust(val, length= 6): return str(val).ljust(length)\n",
    "\n",
    "    # Summary\n",
    "    print('Name   ::  Test Stat > C(95%)    =>   Signif  \\n', '--'*20)\n",
    "    for col, trace, cvt in zip(df.columns, traces, cvts):\n",
    "        print(adjust(col), ':: ', adjust(round(trace,2), 9), \">\", adjust(cvt, 8), ' =>  ' , trace > cvt)"
   ]
  },
  {
   "cell_type": "code",
   "execution_count": 127,
   "metadata": {},
   "outputs": [
    {
     "name": "stdout",
     "output_type": "stream",
     "text": [
      "Name   ::  Test Stat > C(95%)    =>   Signif  \n",
      " ----------------------------------------\n",
      "Not_Meeting_Pct ::  221.25    > 24.2761   =>   True\n",
      "Partially_Meeting_Pct ::  92.42     > 12.3212   =>   True\n",
      "Meeting_Pct ::  0.0       > 4.1296    =>   False\n"
     ]
    }
   ],
   "source": [
    "#Check for Cointegration to test for non-stationary time series\n",
    "cointegration_test(nyc[['Not_Meeting_Pct', 'Partially_Meeting_Pct','Meeting_Pct']])"
   ]
  },
  {
   "cell_type": "code",
   "execution_count": 135,
   "metadata": {},
   "outputs": [
    {
     "name": "stdout",
     "output_type": "stream",
     "text": [
      "Dickry-Fuller Test Result:\n",
      "Test Statistic                -1.217161\n",
      "p-value                        0.666170\n",
      "#Lags Used                     0.000000\n",
      "Number of Observations Used    6.000000\n",
      "Critical Value (1%)           -5.354256\n",
      "Critical Value (5%)           -3.646238\n",
      "Critical Value (10%)          -2.901198\n",
      "dtype: float64\n",
      "Dickry-Fuller Test Result:\n",
      "Test Statistic                -0.121923\n",
      "p-value                        0.947211\n",
      "#Lags Used                     0.000000\n",
      "Number of Observations Used    6.000000\n",
      "Critical Value (1%)           -5.354256\n",
      "Critical Value (5%)           -3.646238\n",
      "Critical Value (10%)          -2.901198\n",
      "dtype: float64\n",
      "Dickry-Fuller Test Result:\n",
      "Test Statistic                -0.393919\n",
      "p-value                        0.911109\n",
      "#Lags Used                     0.000000\n",
      "Number of Observations Used    6.000000\n",
      "Critical Value (1%)           -5.354256\n",
      "Critical Value (5%)           -3.646238\n",
      "Critical Value (10%)          -2.901198\n",
      "dtype: float64\n"
     ]
    }
   ],
   "source": [
    "#Perform Unit Root Test; Check for stationarity\n",
    "from statsmodels.tsa.stattools import adfuller\n",
    "def adf(train_df):\n",
    "    #Dickey-Fuller test\n",
    "    print('Dickry-Fuller Test Result:')\n",
    "    dftest = adfuller(train_df, autolag='AIC')\n",
    "    dfoutput = pd.Series(dftest[0:4],index=['Test Statistic','p-value','#Lags Used',\n",
    "                                            'Number of Observations Used'])\n",
    "    for key, value in dftest[4].items():\n",
    "        dfoutput['Critical Value (%s)'%key] = value\n",
    "    print(dfoutput)\n",
    "\n",
    "# ADF Test on each column\n",
    "adf(school['Not_Meeting_Pct'])\n",
    "adf(school['Partially_Meeting_Pct'])\n",
    "adf(school['Meeting_Pct'])  "
   ]
  },
  {
   "cell_type": "code",
   "execution_count": 141,
   "metadata": {},
   "outputs": [
    {
     "name": "stdout",
     "output_type": "stream",
     "text": [
      "ADF Test for school with id 84K517\n",
      "Dickry-Fuller Test Result:\n",
      "Test Statistic                -3.499179\n",
      "p-value                        0.008008\n",
      "#Lags Used                     0.000000\n",
      "Number of Observations Used    6.000000\n",
      "Critical Value (1%)           -5.354256\n",
      "Critical Value (5%)           -3.646238\n",
      "Critical Value (10%)          -2.901198\n",
      "dtype: float64\n",
      "Dickry-Fuller Test Result:\n",
      "Test Statistic                -2.213738\n",
      "p-value                        0.201297\n",
      "#Lags Used                     0.000000\n",
      "Number of Observations Used    6.000000\n",
      "Critical Value (1%)           -5.354256\n",
      "Critical Value (5%)           -3.646238\n",
      "Critical Value (10%)          -2.901198\n",
      "dtype: float64\n",
      "Dickry-Fuller Test Result:\n",
      "Test Statistic                -2.839055\n",
      "p-value                        0.052908\n",
      "#Lags Used                     0.000000\n",
      "Number of Observations Used    6.000000\n",
      "Critical Value (1%)           -5.354256\n",
      "Critical Value (5%)           -3.646238\n",
      "Critical Value (10%)          -2.901198\n",
      "dtype: float64\n",
      " \n",
      "ADF Test for school with id 84K125\n",
      "Dickry-Fuller Test Result:\n",
      "Test Statistic                -1.819707\n",
      "p-value                        0.370723\n",
      "#Lags Used                     0.000000\n",
      "Number of Observations Used    4.000000\n",
      "Critical Value (1%)           -7.355441\n",
      "Critical Value (5%)           -4.474365\n",
      "Critical Value (10%)          -3.126933\n",
      "dtype: float64\n",
      "Dickry-Fuller Test Result:\n",
      "Test Statistic                -20.248524\n",
      "p-value                         0.000000\n",
      "#Lags Used                      0.000000\n",
      "Number of Observations Used     4.000000\n",
      "Critical Value (1%)            -7.355441\n",
      "Critical Value (5%)            -4.474365\n",
      "Critical Value (10%)           -3.126933\n",
      "dtype: float64\n",
      "Dickry-Fuller Test Result:\n",
      "Test Statistic                -7.629144e+00\n",
      "p-value                        2.030708e-11\n",
      "#Lags Used                     0.000000e+00\n",
      "Number of Observations Used    4.000000e+00\n",
      "Critical Value (1%)           -7.355441e+00\n",
      "Critical Value (5%)           -4.474365e+00\n",
      "Critical Value (10%)          -3.126933e+00\n",
      "dtype: float64\n"
     ]
    }
   ],
   "source": [
    "# ADF Test on each column; school2\n",
    "print('ADF Test for school with id 84K517')\n",
    "adf(school2['Not_Meeting_Pct'])\n",
    "adf(school2['Partially_Meeting_Pct'])\n",
    "adf(school2['Meeting_Pct']) \n",
    "print(' ')\n",
    "\n",
    "# ADF Test on each column; school3\n",
    "print('ADF Test for school with id 84K125')\n",
    "adf(school3['Not_Meeting_Pct'])\n",
    "adf(school3['Partially_Meeting_Pct'])\n",
    "adf(school3['Meeting_Pct']) "
   ]
  },
  {
   "cell_type": "markdown",
   "metadata": {},
   "source": [
    "### Observation\n",
    "* The ADF Test further ascertains that the schools should be treated as individual sites as some schools exhibit stationary data while other schools' data poorly depicts stationarity\n",
    "\n",
    "* For this project, I made a assumption that the data is stationary and suitable for a timeseries model"
   ]
  },
  {
   "cell_type": "code",
   "execution_count": 142,
   "metadata": {},
   "outputs": [
    {
     "data": {
      "text/plain": [
       "<AxesSubplot:xlabel='Year'>"
      ]
     },
     "execution_count": 142,
     "metadata": {},
     "output_type": "execute_result"
    },
    {
     "data": {
      "image/png": "[encoded data removed]",
      "text/plain": [
       "<Figure size 432x288 with 1 Axes>"
      ]
     },
     "metadata": {
      "needs_background": "light"
     },
     "output_type": "display_data"
    }
   ],
   "source": [
    "#Plot to visualize the trend in school id 84K125\n",
    "school3['Not_Meeting_Pct'].plot()\n",
    "school3['Partially_Meeting_Pct'].plot()\n",
    "school3['Meeting_Pct'].plot()"
   ]
  },
  {
   "cell_type": "markdown",
   "metadata": {},
   "source": [
    "### Challenges\n",
    "\n",
    "* During the training process, an error with variable constancy was reported. A further research revealed that VAR being a time series model requires variability in the data. So I introduced noise data into the dataset to gain variability in the data.\n",
    "\n",
    "* The Math scores were collected from multiple schools so the prediction needs to be per school. For that I planned to create a model for each school but some schools do not have enough data (schools with only a year data) to split into train and test for time series modeling so I removed them from the dataset.\n",
    "\n",
    "* Prediction by school reduces sample size further. Unit test for stationarity like ADF (Augmented Dickey Fuller) Test could not be done. "
   ]
  },
  {
   "cell_type": "code",
   "execution_count": 37,
   "metadata": {},
   "outputs": [],
   "source": [
    "#function splits the data into train set and validation set\n",
    "\n",
    "def train_valid_split(df):\n",
    "    '''\n",
    "    INPUT:(pandas dataframe) individual school dataframe\n",
    "    OUTPUT: (pandas dataframe) train_df, valid_df\n",
    "    TASK: split df into train set and validation set;\n",
    "           validation set has records of most current year\n",
    "    '''\n",
    "    #add noise to data to add variance for VAR to work optimally\n",
    "    #create noise with the same dimension as the subset data\n",
    "    mu, sigma = 0,0.1\n",
    "    nrow,ncol = df.shape[0],df.shape[1]\n",
    "    noise = np.random.normal(mu, sigma,[nrow,ncol])\n",
    "    df = df + noise\n",
    "    cut_off = int(df.shape[0]*0.75)\n",
    "    #split data into train set and validation set\n",
    "    train_df = df[0:cut_off]\n",
    "    valid_df = df[cut_off:]\n",
    "    \n",
    "    return train_df, valid_df"
   ]
  },
  {
   "cell_type": "code",
   "execution_count": 219,
   "metadata": {},
   "outputs": [],
   "source": [
    "#test train_valid_split\n",
    "t,v= train_valid_split(school)\n",
    "#t,v"
   ]
  },
  {
   "cell_type": "code",
   "execution_count": 39,
   "metadata": {},
   "outputs": [],
   "source": [
    "#function builds the model\n",
    "def build_model(train):\n",
    "    '''\n",
    "    INPUT: (pandas dataframe) train dataframe\n",
    "    OUTPUT: model_fit\n",
    "    TASK: build forecast model for each school\n",
    "    '''\n",
    "    model = VAR(train)\n",
    "    model_fit = model.fit()\n",
    "    \n",
    "    return model_fit\n",
    "    "
   ]
  },
  {
   "cell_type": "code",
   "execution_count": 220,
   "metadata": {},
   "outputs": [],
   "source": [
    "#test build_model\n",
    "mod = build_model(t)"
   ]
  },
  {
   "cell_type": "code",
   "execution_count": 221,
   "metadata": {},
   "outputs": [
    {
     "data": {
      "text/plain": [
       "<statsmodels.tsa.vector_ar.var_model.VARResultsWrapper at 0x1a1d6ec438>"
      ]
     },
     "execution_count": 221,
     "metadata": {},
     "output_type": "execute_result"
    }
   ],
   "source": [
    "mod"
   ]
  },
  {
   "cell_type": "code",
   "execution_count": 163,
   "metadata": {},
   "outputs": [],
   "source": [
    "cols = school.columns\n",
    "#function makes prediction using the model\n",
    "def predict(validation, model):\n",
    "    '''\n",
    "    INPUT: (pandas dataframe) validation set\n",
    "           (timeseries model) model\n",
    "    OUTPUT: prediction\n",
    "    TASK: use model to make prediction\n",
    "    '''\n",
    "    prediction = model.forecast(model.y, steps=len(validation))\n",
    "    \n",
    "    #covert prediction to dataframe\n",
    "    pred = pd.DataFrame(index = range(0,len(prediction)),columns=[cols])\n",
    "    \n",
    "    for i in range(0,3):\n",
    "        for j in range(0, len(prediction)):\n",
    "            pred.iloc[j][i] = prediction[j][i]\n",
    "            \n",
    "    return pred"
   ]
  },
  {
   "cell_type": "code",
   "execution_count": 222,
   "metadata": {},
   "outputs": [
    {
     "data": {
      "text/html": [
       "<div>\n",
       "<style scoped>\n",
       "    .dataframe tbody tr th:only-of-type {\n",
       "        vertical-align: middle;\n",
       "    }\n",
       "\n",
       "    .dataframe tbody tr th {\n",
       "        vertical-align: top;\n",
       "    }\n",
       "\n",
       "    .dataframe thead tr th {\n",
       "        text-align: left;\n",
       "    }\n",
       "</style>\n",
       "<table border=\"1\" class=\"dataframe\">\n",
       "  <thead>\n",
       "    <tr>\n",
       "      <th></th>\n",
       "      <th>Not_Meeting_Pct</th>\n",
       "      <th>Partially_Meeting_Pct</th>\n",
       "      <th>Meeting_Pct</th>\n",
       "    </tr>\n",
       "  </thead>\n",
       "  <tbody>\n",
       "    <tr>\n",
       "      <th>0</th>\n",
       "      <td>19.9298</td>\n",
       "      <td>29.7157</td>\n",
       "      <td>49.2705</td>\n",
       "    </tr>\n",
       "    <tr>\n",
       "      <th>1</th>\n",
       "      <td>44.6103</td>\n",
       "      <td>67.8351</td>\n",
       "      <td>-14.4564</td>\n",
       "    </tr>\n",
       "  </tbody>\n",
       "</table>\n",
       "</div>"
      ],
      "text/plain": [
       "  Not_Meeting_Pct Partially_Meeting_Pct Meeting_Pct\n",
       "0         19.9298               29.7157     49.2705\n",
       "1         44.6103               67.8351    -14.4564"
      ]
     },
     "execution_count": 222,
     "metadata": {},
     "output_type": "execute_result"
    }
   ],
   "source": [
    "#test predict\n",
    "p = predict(v,mod)\n",
    "p"
   ]
  },
  {
   "cell_type": "code",
   "execution_count": 165,
   "metadata": {},
   "outputs": [],
   "source": [
    "#This function evaluates the model\n",
    "def evaluate_model(pred, valid):\n",
    "    '''\n",
    "    INPUT: (pandas dataframe) prediction by model\n",
    "            validation dataframe\n",
    "    OUTPUT: root mean squared score for the three target variables\n",
    "    TASK: evaluate the performance of the model\n",
    "    '''\n",
    "    for index,i in enumerate(valid.columns):\n",
    "        print(i)\n",
    "        print('rmse:{}'.format(math.sqrt(mean_squared_error(valid.iloc[:,index],pred.iloc[:,index])))) \n",
    "            "
   ]
  },
  {
   "cell_type": "code",
   "execution_count": 223,
   "metadata": {},
   "outputs": [
    {
     "name": "stdout",
     "output_type": "stream",
     "text": [
      "Not_Meeting_Pct\n",
      "rmse:27.060643039165157\n",
      "Partially_Meeting_Pct\n",
      "rmse:34.397144351485615\n",
      "Meeting_Pct\n",
      "rmse:62.84230720801726\n"
     ]
    }
   ],
   "source": [
    "#test evaluate_model\n",
    "evaluate_model(p,v)"
   ]
  },
  {
   "cell_type": "code",
   "execution_count": 48,
   "metadata": {},
   "outputs": [],
   "source": [
    "#function builds models for individual schools and stores them in a dictionary\n",
    "def build_allmodels(sch_ids):\n",
    "    '''\n",
    "    INPUT: (list) the ids of the schools\n",
    "    OUTPUT: (dict) a dictionary mapping the school id to the school model\n",
    "    TASK: build models for all the schools in the dataset\n",
    "    '''\n",
    "    all_models = dict()\n",
    "    for ind in sch_ids:\n",
    "        school_data = get_school_df(ind)\n",
    "        train_data, validation_data = train_valid_split(school_data)\n",
    "        try:\n",
    "            school_model = build_model(train_data)\n",
    "            all_models[ind]=school_model\n",
    "        except ValueError: #raised if train_data is empty\n",
    "            pass\n",
    "    \n",
    "    return all_models"
   ]
  },
  {
   "cell_type": "code",
   "execution_count": 553,
   "metadata": {},
   "outputs": [],
   "source": [
    "#build_allmodels(school_ids)"
   ]
  },
  {
   "cell_type": "code",
   "execution_count": 104,
   "metadata": {},
   "outputs": [],
   "source": [
    "#models = build_allmodels(school_ids)\n",
    "#models"
   ]
  },
  {
   "cell_type": "code",
   "execution_count": 122,
   "metadata": {},
   "outputs": [],
   "source": [
    "#build_allmodels(school_ids)\n"
   ]
  },
  {
   "cell_type": "code",
   "execution_count": 50,
   "metadata": {},
   "outputs": [],
   "source": [
    "#get school ids that had models\n",
    "school_ids_pred = []\n",
    "for k,v in models.items():\n",
    "    school_ids_pred.append(k)\n",
    "#print(school_ids_pred)"
   ]
  },
  {
   "cell_type": "code",
   "execution_count": 143,
   "metadata": {},
   "outputs": [],
   "source": [
    "#school_ids_pred"
   ]
  },
  {
   "cell_type": "code",
   "execution_count": 53,
   "metadata": {},
   "outputs": [],
   "source": [
    "#get school names\n",
    "school_names = np.unique(nyc_charter.loc[nyc_charter['DBN'].isin(school_ids_pred)]['School_Name']).tolist()\n",
    "#school_names"
   ]
  },
  {
   "cell_type": "code",
   "execution_count": 54,
   "metadata": {},
   "outputs": [],
   "source": [
    "#function evaluates the models\n",
    "def evaluate_allmodels(models):\n",
    "    '''\n",
    "    INPUT: (dict) models for schools in the dataset\n",
    "    OUTPUT: (float) root mean squared error of each model\n",
    "    TASK: compute the rmse for the model\n",
    "    \n",
    "    '''\n",
    "    for key, value in models.items():\n",
    "        sub_data = get_school_df(key)\n",
    "        t_data, v_data = train_valid_split(sub_data)\n",
    "        #get prediction for each school's model\n",
    "        preds = predict(v_data,models[key])\n",
    "        print(\"The rmse score for school with id {}\".format(key))\n",
    "        evaluate_model(preds,v_data)\n",
    "        print(' ')\n",
    "    \n"
   ]
  },
  {
   "cell_type": "code",
   "execution_count": 168,
   "metadata": {},
   "outputs": [],
   "source": [
    "#returns rmse for each school's model\n",
    "#evaluate_allmodels(models)"
   ]
  },
  {
   "cell_type": "code",
   "execution_count": 152,
   "metadata": {},
   "outputs": [
    {
     "data": {
      "text/html": [
       "<div>\n",
       "<style scoped>\n",
       "    .dataframe tbody tr th:only-of-type {\n",
       "        vertical-align: middle;\n",
       "    }\n",
       "\n",
       "    .dataframe tbody tr th {\n",
       "        vertical-align: top;\n",
       "    }\n",
       "\n",
       "    .dataframe thead th {\n",
       "        text-align: right;\n",
       "    }\n",
       "</style>\n",
       "<table border=\"1\" class=\"dataframe\">\n",
       "  <thead>\n",
       "    <tr style=\"text-align: right;\">\n",
       "      <th></th>\n",
       "      <th>Not_Meeting_Pct</th>\n",
       "      <th>Partially_Meeting_Pct</th>\n",
       "      <th>Meeting_Pct</th>\n",
       "    </tr>\n",
       "    <tr>\n",
       "      <th>Year</th>\n",
       "      <th></th>\n",
       "      <th></th>\n",
       "      <th></th>\n",
       "    </tr>\n",
       "  </thead>\n",
       "  <tbody>\n",
       "    <tr>\n",
       "      <th>2013-01-01</th>\n",
       "      <td>16.671429</td>\n",
       "      <td>40.685714</td>\n",
       "      <td>42.628571</td>\n",
       "    </tr>\n",
       "    <tr>\n",
       "      <th>2014-01-01</th>\n",
       "      <td>15.257143</td>\n",
       "      <td>40.028571</td>\n",
       "      <td>44.700000</td>\n",
       "    </tr>\n",
       "    <tr>\n",
       "      <th>2015-01-01</th>\n",
       "      <td>13.714286</td>\n",
       "      <td>40.142857</td>\n",
       "      <td>46.185714</td>\n",
       "    </tr>\n",
       "    <tr>\n",
       "      <th>2016-01-01</th>\n",
       "      <td>7.800000</td>\n",
       "      <td>30.157143</td>\n",
       "      <td>62.042857</td>\n",
       "    </tr>\n",
       "    <tr>\n",
       "      <th>2017-01-01</th>\n",
       "      <td>9.357143</td>\n",
       "      <td>25.400000</td>\n",
       "      <td>65.228571</td>\n",
       "    </tr>\n",
       "    <tr>\n",
       "      <th>2018-01-01</th>\n",
       "      <td>10.942857</td>\n",
       "      <td>22.257143</td>\n",
       "      <td>66.800000</td>\n",
       "    </tr>\n",
       "    <tr>\n",
       "      <th>2019-01-01</th>\n",
       "      <td>7.528571</td>\n",
       "      <td>19.771429</td>\n",
       "      <td>72.714286</td>\n",
       "    </tr>\n",
       "  </tbody>\n",
       "</table>\n",
       "</div>"
      ],
      "text/plain": [
       "            Not_Meeting_Pct  Partially_Meeting_Pct  Meeting_Pct\n",
       "Year                                                           \n",
       "2013-01-01        16.671429              40.685714    42.628571\n",
       "2014-01-01        15.257143              40.028571    44.700000\n",
       "2015-01-01        13.714286              40.142857    46.185714\n",
       "2016-01-01         7.800000              30.157143    62.042857\n",
       "2017-01-01         9.357143              25.400000    65.228571\n",
       "2018-01-01        10.942857              22.257143    66.800000\n",
       "2019-01-01         7.528571              19.771429    72.714286"
      ]
     },
     "execution_count": 152,
     "metadata": {},
     "output_type": "execute_result"
    }
   ],
   "source": [
    "school"
   ]
  },
  {
   "cell_type": "markdown",
   "metadata": {},
   "source": [
    "### Refinement\n",
    "* To refine the the model I will run different lag order to pick the one that decreases the rmse.\n"
   ]
  },
  {
   "cell_type": "code",
   "execution_count": 210,
   "metadata": {},
   "outputs": [],
   "source": [
    "#funtion to choose best VAR model\n",
    "def refine_model(t):\n",
    "    '''\n",
    "    INPUT: (pandas dataframe) train dataframe\n",
    "    OUTPUT: model_fit\n",
    "    TASK: build forecast model for each school\n",
    "    '''\n",
    "  \n",
    "    model = VAR(t)\n",
    "    model_fit = model.fit(1)\n",
    "    return model_fit\n",
    "  \n",
    "    \n",
    " "
   ]
  },
  {
   "cell_type": "code",
   "execution_count": 224,
   "metadata": {},
   "outputs": [],
   "source": [
    "tr,te = train_valid_split(school)"
   ]
  },
  {
   "cell_type": "code",
   "execution_count": 227,
   "metadata": {},
   "outputs": [],
   "source": [
    "#tr, te"
   ]
  },
  {
   "cell_type": "code",
   "execution_count": 226,
   "metadata": {},
   "outputs": [
    {
     "name": "stdout",
     "output_type": "stream",
     "text": [
      "Not_Meeting_Pct\n",
      "rmse:24.944572165823786\n",
      "Partially_Meeting_Pct\n",
      "rmse:37.04252480472045\n",
      "Meeting_Pct\n",
      "rmse:63.23610798139349\n"
     ]
    }
   ],
   "source": [
    "#run the refine model to use lag order 1 using same sub dataset as before\n",
    "model_tr = refine_model(tr)\n",
    "#make prediction\n",
    "pred_tr = predict(te,model_tr)\n",
    "#evaluate model\n",
    "evaluate_model(pred_tr,te)"
   ]
  },
  {
   "cell_type": "markdown",
   "metadata": {},
   "source": [
    "## <a class=\"anchor\" id=\"Result\">Part IV : Result</a>"
   ]
  },
  {
   "cell_type": "markdown",
   "metadata": {},
   "source": [
    "### Model Evaluation and Validation\n",
    "\n",
    "The model accuracy score improves with the number of lags. Small sample size per school limits the use of more than 1 lag for the model to work well with all schools. Increasing the lag order would optimize the model for some schools while it could break the model in other schools.\n",
    "\n",
    "For this dataset a lag order of 1 is chosen for the model training."
   ]
  },
  {
   "cell_type": "markdown",
   "metadata": {},
   "source": [
    "### Justification\n",
    "\n",
    "* At the initial stage of the project, I considered using MultiOutput Regression model. But after researching and gaining more understanding of my project scope, I realised the presence of time and the prediction of time. VAR is a time series model and it takes the dependency of past events and other variables as a feed to occurence to the next time line. It captures the concentration of time in the project. VAR is one of the few time series algorithms that can predict mutivariate target variables.\n",
    "\n",
    "\n",
    "* The introduction of noise data was very helpful in making the model robust to withstand constancy in the training data\n"
   ]
  },
  {
   "cell_type": "markdown",
   "metadata": {},
   "source": [
    "## <a class=\"anchor\" id=\"Conclusion\">Part V : Conclusion</a>"
   ]
  },
  {
   "cell_type": "markdown",
   "metadata": {},
   "source": [
    "The aim of the project is to forecast the trend of three performance levels in Math in NYC Charter Schools- Not Meeting Learning Standards, Partially Meeting Learning Standards, and Meeting Learning Standards. This project could help educators and superintendent of schools initiate early intervention in schools with high percentage of students falling behind.\n",
    "\n",
    "School improvement could be measured and schools exceling could serve as a learning model for other schools in the district.\n",
    "\n",
    "* Improvement:<br>\n",
    "Getting more data for each school would improve the accuracy of the model's forecasting."
   ]
  },
  {
   "cell_type": "markdown",
   "metadata": {},
   "source": [
    "### References\n",
    "\n",
    "* https://machinelearningmastery.com/how-to-develop-machine-learning-models-for-multivariate-multi-step-air-pollution-time-series-forecasting/\n",
    "\n",
    "* https://www.analyticsvidhya.com/blog/2018/09/multivariate-time-series-guide-forecasting-modeling-python-codes/\n",
    "\n",
    "* https://towardsdatascience.com/an-end-to-end-project-on-time-series-analysis-and-forecasting-with-python-4835e6bf050b\n",
    "\n",
    "* https://www.machinelearningplus.com/time-series/vector-autoregression-examples-python/\n",
    "\n",
    "* https://www.kaggle.com/sagivmal/var-prediction-on-coronavirus-italy"
   ]
  },
  {
   "cell_type": "code",
   "execution_count": null,
   "metadata": {},
   "outputs": [],
   "source": []
  }
 ],
 "metadata": {
  "kernelspec": {
   "display_name": "Python 3",
   "language": "python",
   "name": "python3"
  },
  "language_info": {
   "codemirror_mode": {
    "name": "ipython",
    "version": 3
   },
   "file_extension": ".py",
   "mimetype": "text/x-python",
   "name": "python",
   "nbconvert_exporter": "python",
   "pygments_lexer": "ipython3",
   "version": "3.7.2"
  }
 },
 "nbformat": 4,
 "nbformat_minor": 2
}
